{
 "cells": [
  {
   "cell_type": "markdown",
   "metadata": {
    "application/vnd.databricks.v1+cell": {
     "cellMetadata": {},
     "inputWidgets": {},
     "nuid": "41e57cea-739a-417d-a18d-074b341f7bc6",
     "showTitle": false,
     "title": ""
    }
   },
   "source": [
    "### Parameterization\n",
    "**Widgets**"
   ]
  },
  {
   "cell_type": "code",
   "execution_count": 0,
   "metadata": {
    "application/vnd.databricks.v1+cell": {
     "cellMetadata": {
      "byteLimit": 2048000,
      "rowLimit": 10000
     },
     "inputWidgets": {},
     "nuid": "d4edfb79-af5d-4d77-9ca1-ea3a8c7fb968",
     "showTitle": false,
     "title": ""
    }
   },
   "outputs": [],
   "source": [
    "dbutils.widgets.text(\"textWgt\",\"hello\")"
   ]
  },
  {
   "cell_type": "code",
   "execution_count": 0,
   "metadata": {
    "application/vnd.databricks.v1+cell": {
     "cellMetadata": {
      "byteLimit": 2048000,
      "rowLimit": 10000
     },
     "inputWidgets": {},
     "nuid": "e1bf9b05-a994-43ab-ad08-ef97be4b329b",
     "showTitle": false,
     "title": ""
    }
   },
   "outputs": [
    {
     "output_type": "stream",
     "name": "stdout",
     "output_type": "stream",
     "text": [
      "hello\n"
     ]
    }
   ],
   "source": [
    "print(dbutils.widgets.get(\"textWgt\"))"
   ]
  },
  {
   "cell_type": "code",
   "execution_count": 0,
   "metadata": {
    "application/vnd.databricks.v1+cell": {
     "cellMetadata": {
      "byteLimit": 2048000,
      "rowLimit": 10000
     },
     "inputWidgets": {},
     "nuid": "5b5268f0-c7fb-4ec8-b432-92a5c019d937",
     "showTitle": false,
     "title": ""
    }
   },
   "outputs": [],
   "source": [
    "dbutils.widgets.dropdown(\"dropWgt\",\"Green\",[\"Green\",\"Blue\",\"Yellow\",\"Red\"],\"Choose a color\")"
   ]
  },
  {
   "cell_type": "code",
   "execution_count": 0,
   "metadata": {
    "application/vnd.databricks.v1+cell": {
     "cellMetadata": {
      "byteLimit": 2048000,
      "rowLimit": 10000
     },
     "inputWidgets": {},
     "nuid": "a2e11cc7-bc18-43b0-bb70-ed26c4064538",
     "showTitle": false,
     "title": ""
    }
   },
   "outputs": [
    {
     "output_type": "execute_result",
     "data": {
      "text/plain": [
       "'Yellow'"
      ]
     },
     "execution_count": 18,
     "metadata": {},
     "output_type": "execute_result"
    }
   ],
   "source": [
    "dbutils.widgets.get(\"dropWgt\")"
   ]
  },
  {
   "cell_type": "code",
   "execution_count": 0,
   "metadata": {
    "application/vnd.databricks.v1+cell": {
     "cellMetadata": {
      "byteLimit": 2048000,
      "rowLimit": 10000
     },
     "inputWidgets": {},
     "nuid": "b8cf6718-ece8-4b75-8646-8f342db7245e",
     "showTitle": false,
     "title": ""
    }
   },
   "outputs": [
    {
     "output_type": "display_data",
     "data": {
      "text/html": [
       "<div class = \"ansiout\"><b>dbutils.widgets</b> provides utilities for working with notebook widgets. You can create\n",
       "different types of widgets and get their bound value.\n",
       "\n",
       "For more info about a method, use <b>dbutils.widgets.help(\"methodName\")</b>.\n",
       "    <h3></h3><b>combobox(name: String, defaultValue: String, choices: Seq, label: String): void</b> -> Creates a combobox input widget with a given name, default value and choices<br /><b>dropdown(name: String, defaultValue: String, choices: Seq, label: String): void</b> -> Creates a dropdown input widget a with given name, default value and choices<br /><b>get(name: String): String</b> -> Retrieves current value of an input widget<br /><b>getArgument(name: String, optional: String): String</b> -> (DEPRECATED) Equivalent to get<br /><b>multiselect(name: String, defaultValue: String, choices: Seq, label: String): void</b> -> Creates a multiselect input widget with a given name, default value and choices<br /><b>remove(name: String): void</b> -> Removes an input widget from the notebook<br /><b>removeAll: void</b> -> Removes all widgets in the notebook<br /><b>text(name: String, defaultValue: String, label: String): void</b> -> Creates a text input widget with a given name and default value<br /><br /></div>"
      ]
     },
     "metadata": {},
     "output_type": "display_data"
    }
   ],
   "source": [
    "dbutils.widgets.help()"
   ]
  },
  {
   "cell_type": "code",
   "execution_count": 0,
   "metadata": {
    "application/vnd.databricks.v1+cell": {
     "cellMetadata": {
      "byteLimit": 2048000,
      "rowLimit": 10000
     },
     "inputWidgets": {},
     "nuid": "4ee9fad3-216b-4842-ae68-bffe680334f7",
     "showTitle": false,
     "title": ""
    }
   },
   "outputs": [],
   "source": [
    "dbutils.widgets.combobox(\"comboWgt\",\"Shell\",[\"IDA\",\"IDSO\",\"SE\",\"T&S\"],\"Select Department\")"
   ]
  },
  {
   "cell_type": "code",
   "execution_count": 0,
   "metadata": {
    "application/vnd.databricks.v1+cell": {
     "cellMetadata": {
      "byteLimit": 2048000,
      "rowLimit": 10000
     },
     "inputWidgets": {},
     "nuid": "59b92c61-0f0f-4c2e-b653-fd3ccc3fed6e",
     "showTitle": false,
     "title": ""
    }
   },
   "outputs": [
    {
     "output_type": "stream",
     "name": "stdout",
     "output_type": "stream",
     "text": [
      "\n"
     ]
    }
   ],
   "source": [
    "print(dbutils.widgets.get(\"comboWgt\"))"
   ]
  },
  {
   "cell_type": "code",
   "execution_count": 0,
   "metadata": {
    "application/vnd.databricks.v1+cell": {
     "cellMetadata": {
      "byteLimit": 2048000,
      "rowLimit": 10000
     },
     "inputWidgets": {},
     "nuid": "443d237f-b6a1-45b9-be39-b4909cc2602e",
     "showTitle": false,
     "title": ""
    }
   },
   "outputs": [],
   "source": [
    "dbutils.widgets.multiselect(\"multiWgt\",\"IDA\",[\"IDA\",\"IDSO\",\"SE\",\"T&S\"],\"Department\")"
   ]
  },
  {
   "cell_type": "code",
   "execution_count": 0,
   "metadata": {
    "application/vnd.databricks.v1+cell": {
     "cellMetadata": {
      "byteLimit": 2048000,
      "rowLimit": 10000
     },
     "inputWidgets": {},
     "nuid": "7b20c12a-df3b-441e-a66d-4b93f80259f3",
     "showTitle": false,
     "title": ""
    }
   },
   "outputs": [
    {
     "output_type": "stream",
     "name": "stdout",
     "output_type": "stream",
     "text": [
      "IDSO,IDA,SE,T&S\n"
     ]
    }
   ],
   "source": [
    "print(dbutils.widgets.get(\"multiWgt\"))"
   ]
  },
  {
   "cell_type": "code",
   "execution_count": 0,
   "metadata": {
    "application/vnd.databricks.v1+cell": {
     "cellMetadata": {},
     "inputWidgets": {},
     "nuid": "d8658f0d-bc50-45aa-a464-f29dc9d9ac9a",
     "showTitle": false,
     "title": ""
    }
   },
   "outputs": [],
   "source": [
    "import time\n",
    "input_value = dbutils.widgets.get(\"ida\")\n",
    "operation_type = dbutils.widgets.get(\"ida1\")\n",
    "\n",
    "# Define a function to perform the specified operation\n",
    "def perform_operation(value, operation):\n",
    "    if operation == \"Double\":\n",
    "        return value * 2\n",
    "    elif operation == \"Square\":\n",
    "        return value ** 2\n",
    "    else:\n",
    "        return \"Invalid operation\"\n",
    "\n",
    "# Process the user input\n",
    "try:\n",
    "    input_value = float(input_value)\n",
    "    result = perform_operation(input_value, operation_type)\n",
    "    print(f\"Result of {operation_type} operation on {input_value}: {result}\")\n",
    "except ValueError:\n",
    "    print(\"Invalid input. Please enter a numeric value.\")\n",
    "\n",
    "# Sleep for a while to keep the notebook running\n",
    "time.sleep(5)"
   ]
  }
 ],
 "metadata": {
  "application/vnd.databricks.v1+notebook": {
   "dashboards": [],
   "language": "python",
   "notebookMetadata": {
    "pythonIndentUnit": 4
   },
   "notebookName": "Parameter",
   "widgets": {
    "comboWgt": {
     "currentValue": "",
     "nuid": "6ab7893d-aa06-4704-bc02-c7ed792b8f23",
     "widgetInfo": {
      "widgetType": "combobox",
      "defaultValue": "Shell",
      "label": "Select Department",
      "name": "comboWgt",
      "options": {
       "widgetType": "dropdown",
       "choices": [
        "IDA",
        "IDSO",
        "SE",
        "T&S"
       ]
      }
     }
    },
    "dropWgt": {
     "currentValue": "Yellow",
     "nuid": "2feca1c7-cf2c-4ede-819f-23e125197e67",
     "widgetInfo": {
      "widgetType": "dropdown",
      "defaultValue": "Green",
      "label": "Choose a color",
      "name": "dropWgt",
      "options": {
       "widgetType": "dropdown",
       "choices": [
        "Green",
        "Blue",
        "Yellow",
        "Red"
       ]
      }
     }
    },
    "multiWgt": {
     "currentValue": "IDSO,IDA,SE,T&S",
     "nuid": "b8548cdc-39fe-4c9c-8a37-2cf5895ebe1f",
     "widgetInfo": {
      "widgetType": "multiselect",
      "defaultValue": "IDA",
      "label": "Department",
      "name": "multiWgt",
      "options": {
       "widgetType": "dropdown",
       "choices": [
        "IDA",
        "IDSO",
        "SE",
        "T&S"
       ]
      }
     }
    },
    "textWgt": {
     "currentValue": "hello",
     "nuid": "1dc47076-01b1-4856-83fe-66a6b28a670c",
     "widgetInfo": {
      "widgetType": "text",
      "defaultValue": "hello",
      "label": null,
      "name": "textWgt",
      "options": {
       "widgetType": "text",
       "validationRegex": null
      }
     }
    }
   }
  }
 },
 "nbformat": 4,
 "nbformat_minor": 0
}
