{
 "cells": [
  {
   "cell_type": "code",
   "execution_count": 1,
   "id": "c9a0836a",
   "metadata": {},
   "outputs": [],
   "source": [
    "##Zip()"
   ]
  },
  {
   "cell_type": "code",
   "execution_count": 2,
   "id": "e75c4e47",
   "metadata": {},
   "outputs": [],
   "source": [
    "languages=['Java','Python','JavaScript']\n",
    "versions=[14,3,6]"
   ]
  },
  {
   "cell_type": "code",
   "execution_count": 3,
   "id": "24079378",
   "metadata": {},
   "outputs": [
    {
     "name": "stdout",
     "output_type": "stream",
     "text": [
      "[('Java', 14), ('Python', 3), ('JavaScript', 6)]\n"
     ]
    }
   ],
   "source": [
    "result=zip(languages,versions)\n",
    "print(list(result))"
   ]
  },
  {
   "cell_type": "code",
   "execution_count": 4,
   "id": "4c182e19",
   "metadata": {},
   "outputs": [],
   "source": [
    "##Pandas"
   ]
  },
  {
   "cell_type": "code",
   "execution_count": 5,
   "id": "31a0ea52",
   "metadata": {},
   "outputs": [],
   "source": [
    "data={'Name':['Tom','nick','krish','jack'],'Age':[20,21,19,18]}"
   ]
  },
  {
   "cell_type": "code",
   "execution_count": 6,
   "id": "37178ad0",
   "metadata": {},
   "outputs": [
    {
     "name": "stdout",
     "output_type": "stream",
     "text": [
      "    Name  Age\n",
      "0    Tom   20\n",
      "1   nick   21\n",
      "2  krish   19\n",
      "3   jack   18\n"
     ]
    }
   ],
   "source": [
    "import pandas as pd\n",
    "dfemp=pd.DataFrame(data)\n",
    "print(dfemp)"
   ]
  },
  {
   "cell_type": "code",
   "execution_count": 7,
   "id": "dbdc969d",
   "metadata": {},
   "outputs": [
    {
     "data": {
      "text/plain": [
       "0    20\n",
       "1    21\n",
       "2    19\n",
       "Name: Age, dtype: int64"
      ]
     },
     "execution_count": 7,
     "metadata": {},
     "output_type": "execute_result"
    }
   ],
   "source": [
    "dfser=pd.Series(dfemp['Age'])\n",
    "dfser.head(3)"
   ]
  },
  {
   "cell_type": "code",
   "execution_count": 8,
   "id": "717aad36",
   "metadata": {},
   "outputs": [],
   "source": [
    "result1=dfser.apply(lambda x:21 if x ==19 else x)"
   ]
  },
  {
   "cell_type": "code",
   "execution_count": 9,
   "id": "7d30e9d4",
   "metadata": {},
   "outputs": [
    {
     "name": "stdout",
     "output_type": "stream",
     "text": [
      "0    20\n",
      "1    21\n",
      "2    21\n",
      "3    18\n",
      "Name: Age, dtype: int64\n"
     ]
    }
   ],
   "source": [
    "print(result1)"
   ]
  },
  {
   "cell_type": "code",
   "execution_count": 10,
   "id": "7d4bc6d8",
   "metadata": {},
   "outputs": [],
   "source": [
    "##Numpy Arrays"
   ]
  },
  {
   "cell_type": "code",
   "execution_count": 11,
   "id": "c363927b",
   "metadata": {},
   "outputs": [],
   "source": [
    "#Array Creation Functions\n",
    "#np.array(),np.zeros(),np.ones(),np.empty()"
   ]
  },
  {
   "cell_type": "code",
   "execution_count": 12,
   "id": "0fe8ccb0",
   "metadata": {},
   "outputs": [
    {
     "name": "stdout",
     "output_type": "stream",
     "text": [
      "np.array():\n",
      " [1 3 5]\n"
     ]
    }
   ],
   "source": [
    "import numpy as np\n",
    "array1=np.array([1,3,5])\n",
    "print(\"np.array():\\n\",array1)"
   ]
  },
  {
   "cell_type": "code",
   "execution_count": 13,
   "id": "60edee79",
   "metadata": {},
   "outputs": [
    {
     "name": "stdout",
     "output_type": "stream",
     "text": [
      "\n",
      "np.zeros():\n",
      " [[0. 0. 0.]\n",
      " [0. 0. 0.]\n",
      " [0. 0. 0.]]\n"
     ]
    }
   ],
   "source": [
    "array2=np.zeros((3,3))\n",
    "print(\"\\nnp.zeros():\\n\",array2)"
   ]
  },
  {
   "cell_type": "code",
   "execution_count": 14,
   "id": "9d50a328",
   "metadata": {},
   "outputs": [
    {
     "name": "stdout",
     "output_type": "stream",
     "text": [
      "\n",
      "np.ones():\n",
      " [[1. 1. 1. 1.]\n",
      " [1. 1. 1. 1.]]\n"
     ]
    }
   ],
   "source": [
    "array3=np.ones((2,4))\n",
    "print(\"\\nnp.ones():\\n\",array3)"
   ]
  },
  {
   "cell_type": "code",
   "execution_count": 15,
   "id": "196a6457",
   "metadata": {},
   "outputs": [],
   "source": [
    "array4=np.random.randint(low=1,high=10,size=(3,4))"
   ]
  },
  {
   "cell_type": "code",
   "execution_count": 16,
   "id": "3cc4c922",
   "metadata": {},
   "outputs": [
    {
     "name": "stdout",
     "output_type": "stream",
     "text": [
      "[[1 5 3 3]\n",
      " [1 4 9 4]\n",
      " [3 4 2 8]]\n"
     ]
    }
   ],
   "source": [
    "print(array4)"
   ]
  },
  {
   "cell_type": "code",
   "execution_count": 17,
   "id": "7ced34b2",
   "metadata": {},
   "outputs": [
    {
     "name": "stdout",
     "output_type": "stream",
     "text": [
      "[[19 88 98 61]\n",
      " [69 73  8  7]\n",
      " [ 6 20 92 55]]\n"
     ]
    }
   ],
   "source": [
    "array5=np.random.randint(100,size=(3,4))\n",
    "print(array5)"
   ]
  },
  {
   "cell_type": "code",
   "execution_count": 18,
   "id": "47e78b77",
   "metadata": {},
   "outputs": [],
   "source": [
    "##Array Manipulation Functions\n",
    "#np.reshape(),np.transpose()"
   ]
  },
  {
   "cell_type": "code",
   "execution_count": 19,
   "id": "fe387a36",
   "metadata": {},
   "outputs": [
    {
     "name": "stdout",
     "output_type": "stream",
     "text": [
      "[[ 1  3  5]\n",
      " [ 7  9 11]]\n"
     ]
    }
   ],
   "source": [
    "array6=np.array([1,3,5,7,9,11])\n",
    "array7=np.reshape(array6,(2,3))\n",
    "print(array7)"
   ]
  },
  {
   "cell_type": "code",
   "execution_count": 20,
   "id": "15c8b759",
   "metadata": {},
   "outputs": [
    {
     "name": "stdout",
     "output_type": "stream",
     "text": [
      "[[ 1  7]\n",
      " [ 3  9]\n",
      " [ 5 11]]\n"
     ]
    }
   ],
   "source": [
    "array8=np.transpose(array7)\n",
    "print(array8)"
   ]
  },
  {
   "cell_type": "code",
   "execution_count": 21,
   "id": "dcd7f84f",
   "metadata": {},
   "outputs": [],
   "source": [
    "#Array Input and Output Functions\n",
    "#np.save(),np.loadtxt()"
   ]
  },
  {
   "cell_type": "code",
   "execution_count": 22,
   "id": "d7f41121",
   "metadata": {},
   "outputs": [],
   "source": [
    "arr=np.array([[1,3,5],[2,4,6]])"
   ]
  },
  {
   "cell_type": "code",
   "execution_count": 23,
   "id": "6ee03e75",
   "metadata": {},
   "outputs": [],
   "source": [
    "np.savetxt('data.txt',arr)"
   ]
  },
  {
   "cell_type": "code",
   "execution_count": 24,
   "id": "500e26b3",
   "metadata": {},
   "outputs": [],
   "source": [
    "loaded_data=np.loadtxt('data.txt')"
   ]
  },
  {
   "cell_type": "code",
   "execution_count": 25,
   "id": "856457fa",
   "metadata": {},
   "outputs": [
    {
     "name": "stdout",
     "output_type": "stream",
     "text": [
      "[[1. 3. 5.]\n",
      " [2. 4. 6.]]\n"
     ]
    }
   ],
   "source": [
    "print(loaded_data)"
   ]
  },
  {
   "cell_type": "code",
   "execution_count": 26,
   "id": "a29bf20c",
   "metadata": {},
   "outputs": [],
   "source": [
    "#Scipy\n",
    "#2x+y=5\n",
    "#4x-5y=7"
   ]
  },
  {
   "cell_type": "code",
   "execution_count": 27,
   "id": "7c5e1a9f",
   "metadata": {},
   "outputs": [],
   "source": [
    "a=np.array([[2,1],[4,-5]])\n",
    "b=np.array([[5],[7]])"
   ]
  },
  {
   "cell_type": "code",
   "execution_count": 28,
   "id": "a0fd97bc",
   "metadata": {},
   "outputs": [
    {
     "name": "stdout",
     "output_type": "stream",
     "text": [
      "[[2.28571429]\n",
      " [0.42857143]]\n"
     ]
    }
   ],
   "source": [
    "from scipy import linalg\n",
    "x=linalg.solve(a,b)\n",
    "print(x)"
   ]
  },
  {
   "cell_type": "code",
   "execution_count": 29,
   "id": "af6d531d",
   "metadata": {},
   "outputs": [
    {
     "name": "stdout",
     "output_type": "stream",
     "text": [
      "[[0.]\n",
      " [0.]]\n"
     ]
    }
   ],
   "source": [
    "print(a.dot(x)-b)"
   ]
  },
  {
   "cell_type": "code",
   "execution_count": 30,
   "id": "e2ed9d75",
   "metadata": {},
   "outputs": [],
   "source": [
    "#2x+y=5\n",
    "#x-3y=-2"
   ]
  },
  {
   "cell_type": "code",
   "execution_count": 31,
   "id": "e9427f22",
   "metadata": {},
   "outputs": [],
   "source": [
    "a=np.array([[2,1],[1,-3]])\n",
    "b=np.array([[5],[-2]])"
   ]
  },
  {
   "cell_type": "code",
   "execution_count": 32,
   "id": "f3f49daf",
   "metadata": {},
   "outputs": [
    {
     "name": "stdout",
     "output_type": "stream",
     "text": [
      "[[1.85714286]\n",
      " [1.28571429]]\n"
     ]
    }
   ],
   "source": [
    "from scipy import linalg\n",
    "x=linalg.solve(a,b)\n",
    "print(x)"
   ]
  },
  {
   "cell_type": "code",
   "execution_count": 33,
   "id": "3396657f",
   "metadata": {},
   "outputs": [],
   "source": [
    "res=a.dot(x)-b"
   ]
  },
  {
   "cell_type": "code",
   "execution_count": 34,
   "id": "98b58084",
   "metadata": {},
   "outputs": [],
   "source": [
    "#f=lambda res:(abs(res)+res)/2\n",
    "#f(x)"
   ]
  },
  {
   "cell_type": "code",
   "execution_count": 35,
   "id": "5d827d86",
   "metadata": {},
   "outputs": [],
   "source": [
    "#res=a.dot(f(x))-b\n",
    "#print(res.astype(int))"
   ]
  },
  {
   "cell_type": "code",
   "execution_count": 36,
   "id": "5025b61e",
   "metadata": {},
   "outputs": [
    {
     "name": "stdout",
     "output_type": "stream",
     "text": [
      "              0\n",
      "0  0.000000e+00\n",
      "1 -4.440892e-16\n"
     ]
    }
   ],
   "source": [
    "import pandas as pd\n",
    "result3=pd.DataFrame(res)\n",
    "print(result3)"
   ]
  },
  {
   "cell_type": "code",
   "execution_count": 37,
   "id": "0900cc43",
   "metadata": {},
   "outputs": [
    {
     "name": "stdout",
     "output_type": "stream",
     "text": [
      "0    0\n",
      "1    0\n",
      "Name: 0, dtype: int64\n"
     ]
    }
   ],
   "source": [
    "result4=result3[0].apply(lambda x:int(x))\n",
    "print(result4)"
   ]
  },
  {
   "cell_type": "code",
   "execution_count": null,
   "id": "66304fc6",
   "metadata": {},
   "outputs": [
    {
     "name": "stdout",
     "output_type": "stream",
     "text": [
      "Enter the operation you want to perform?\n",
      " 1. Add a new product. \n",
      " 2. List all Products \n",
      " 3. Add a new Customer \n",
      " 4. List all Customers. \n",
      " 5. Create a new sales order. \n",
      " 6. List all sales order. \n",
      " 7. Quit the Program.\n",
      "2\n",
      "[]\n",
      "Enter the operation you want to perform?\n",
      " 1. Add a new product. \n",
      " 2. List all Products \n",
      " 3. Add a new Customer \n",
      " 4. List all Customers. \n",
      " 5. Create a new sales order. \n",
      " 6. List all sales order. \n",
      " 7. Quit the Program.\n",
      "book\n",
      "Enter the operation you want to perform?\n",
      " 1. Add a new product. \n",
      " 2. List all Products \n",
      " 3. Add a new Customer \n",
      " 4. List all Customers. \n",
      " 5. Create a new sales order. \n",
      " 6. List all sales order. \n",
      " 7. Quit the Program.\n",
      "1\n",
      "Enter the product name.shivam\n",
      "Enter the operation you want to perform?\n",
      " 1. Add a new product. \n",
      " 2. List all Products \n",
      " 3. Add a new Customer \n",
      " 4. List all Customers. \n",
      " 5. Create a new sales order. \n",
      " 6. List all sales order. \n",
      " 7. Quit the Program.\n",
      "2\n",
      "['shivam']\n"
     ]
    }
   ],
   "source": [
    "def SalesManagement():\n",
    "    listprod=[]\n",
    "    listcust=[]\n",
    "    saleslist=[]\n",
    "    while(1):\n",
    "        a=input(\"Enter the operation you want to perform?\\n 1. Add a new product. \\n 2. List all Products \\n 3. Add a new Customer \\n 4. List all Customers. \\n 5. Create a new sales order. \\n 6. List all sales order. \\n 7. Quit the Program.\\n\")\n",
    "        if(a=='1'):\n",
    "            prod=input(\"Enter the product name.\")\n",
    "            listprod.append(prod)\n",
    "        elif(a=='2'):\n",
    "            print(listprod)\n",
    "        elif(a=='3'):\n",
    "            cust=input(\"Enter the Customer name.\")\n",
    "            listcust.append(cust)\n",
    "        elif(a=='4'):\n",
    "            print(listcust)\n",
    "        elif(a=='5'):\n",
    "            sales=input(\"Enter the Order Details\")\n",
    "            saleslist.append(sales)\n",
    "        elif(a=='6'):\n",
    "            print(saleslist)\n",
    "        elif(a=='7'):\n",
    "            break;"
   ]
  },
  {
   "cell_type": "code",
   "execution_count": null,
   "id": "c89b7278",
   "metadata": {},
   "outputs": [],
   "source": []
  },
  {
   "cell_type": "code",
   "execution_count": null,
   "id": "54b26904",
   "metadata": {},
   "outputs": [],
   "source": []
  },
  {
   "cell_type": "code",
   "execution_count": null,
   "id": "84ad4caf",
   "metadata": {},
   "outputs": [],
   "source": []
  }
 ],
 "metadata": {
  "kernelspec": {
   "display_name": "Python 3 (ipykernel)",
   "language": "python",
   "name": "python3"
  },
  "language_info": {
   "codemirror_mode": {
    "name": "ipython",
    "version": 3
   },
   "file_extension": ".py",
   "mimetype": "text/x-python",
   "name": "python",
   "nbconvert_exporter": "python",
   "pygments_lexer": "ipython3",
   "version": "3.11.4"
  }
 },
 "nbformat": 4,
 "nbformat_minor": 5
}
