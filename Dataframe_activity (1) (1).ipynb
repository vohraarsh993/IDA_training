{
 "cells": [
  {
   "cell_type": "code",
   "execution_count": 0,
   "metadata": {
    "application/vnd.databricks.v1+cell": {
     "cellMetadata": {
      "byteLimit": 2048000,
      "rowLimit": 10000
     },
     "inputWidgets": {},
     "nuid": "ff1e0b19-3a96-4663-b0b5-930ed3630b55",
     "showTitle": false,
     "title": ""
    }
   },
   "outputs": [
    {
     "output_type": "display_data",
     "data": {
      "text/html": [
       "<style scoped>\n",
       "  .table-result-container {\n",
       "    max-height: 300px;\n",
       "    overflow: auto;\n",
       "  }\n",
       "  table, th, td {\n",
       "    border: 1px solid black;\n",
       "    border-collapse: collapse;\n",
       "  }\n",
       "  th, td {\n",
       "    padding: 5px;\n",
       "  }\n",
       "  th {\n",
       "    text-align: left;\n",
       "  }\n",
       "</style><div class='table-result-container'><table class='table-result'><thead style='background-color: white'><tr><th>RecordNumber</th><th>Zipcode</th><th>ZipCodeType</th><th>City</th><th>State</th><th>LocationType</th><th>Lat</th><th>Long</th><th>Xaxis</th><th>Yaxis</th><th>Zaxis</th><th>WorldRegion</th><th>Country</th><th>LocationText</th><th>Location</th><th>Decommisioned</th><th>TaxReturnsFiled</th><th>EstimatedPopulation</th><th>TotalWages</th><th>Notes</th></tr></thead><tbody><tr><td>1</td><td>704</td><td>STANDARD</td><td>PARC PARQUE</td><td>PR</td><td>NOT ACCEPTABLE</td><td>17.96</td><td>-66.22</td><td>0.38</td><td>-0.87</td><td>0.3</td><td>NA</td><td>US</td><td>Parc Parque, PR</td><td>NA-US-PR-PARC PARQUE</td><td>false</td><td>null</td><td>null</td><td>null</td><td>null</td></tr><tr><td>2</td><td>704</td><td>STANDARD</td><td>PASEO COSTA DEL SUR</td><td>PR</td><td>NOT ACCEPTABLE</td><td>17.96</td><td>-66.22</td><td>0.38</td><td>-0.87</td><td>0.3</td><td>NA</td><td>US</td><td>Paseo Costa Del Sur, PR</td><td>NA-US-PR-PASEO COSTA DEL SUR</td><td>false</td><td>null</td><td>null</td><td>null</td><td>null</td></tr><tr><td>10</td><td>709</td><td>STANDARD</td><td>BDA SAN LUIS</td><td>PR</td><td>NOT ACCEPTABLE</td><td>18.14</td><td>-66.26</td><td>0.38</td><td>-0.86</td><td>0.31</td><td>NA</td><td>US</td><td>Bda San Luis, PR</td><td>NA-US-PR-BDA SAN LUIS</td><td>false</td><td>null</td><td>null</td><td>null</td><td>null</td></tr><tr><td>61391</td><td>76166</td><td>UNIQUE</td><td>CINGULAR WIRELESS</td><td>TX</td><td>NOT ACCEPTABLE</td><td>32.72</td><td>-97.31</td><td>-0.1</td><td>-0.83</td><td>0.54</td><td>NA</td><td>US</td><td>Cingular Wireless, TX</td><td>NA-US-TX-CINGULAR WIRELESS</td><td>false</td><td>null</td><td>null</td><td>null</td><td>null</td></tr><tr><td>61392</td><td>76177</td><td>STANDARD</td><td>FORT WORTH</td><td>TX</td><td>PRIMARY</td><td>32.75</td><td>-97.33</td><td>-0.1</td><td>-0.83</td><td>0.54</td><td>NA</td><td>US</td><td>Fort Worth, TX</td><td>NA-US-TX-FORT WORTH</td><td>false</td><td>2126</td><td>4053</td><td>122396986</td><td>null</td></tr><tr><td>61393</td><td>76177</td><td>STANDARD</td><td>FT WORTH</td><td>TX</td><td>ACCEPTABLE</td><td>32.75</td><td>-97.33</td><td>-0.1</td><td>-0.83</td><td>0.54</td><td>NA</td><td>US</td><td>Ft Worth, TX</td><td>NA-US-TX-FT WORTH</td><td>false</td><td>2126</td><td>4053</td><td>122396986</td><td>null</td></tr><tr><td>4</td><td>704</td><td>STANDARD</td><td>URB EUGENE RICE</td><td>PR</td><td>NOT ACCEPTABLE</td><td>17.96</td><td>-66.22</td><td>0.38</td><td>-0.87</td><td>0.3</td><td>NA</td><td>US</td><td>Urb Eugene Rice, PR</td><td>NA-US-PR-URB EUGENE RICE</td><td>false</td><td>null</td><td>null</td><td>null</td><td>null</td></tr><tr><td>39827</td><td>85209</td><td>STANDARD</td><td>MESA</td><td>AZ</td><td>PRIMARY</td><td>33.37</td><td>-111.64</td><td>-0.3</td><td>-0.77</td><td>0.55</td><td>NA</td><td>US</td><td>Mesa, AZ</td><td>NA-US-AZ-MESA</td><td>false</td><td>14962</td><td>26883</td><td>563792730</td><td>no NWS data, </td></tr><tr><td>39828</td><td>85210</td><td>STANDARD</td><td>MESA</td><td>AZ</td><td>PRIMARY</td><td>33.38</td><td>-111.84</td><td>-0.31</td><td>-0.77</td><td>0.55</td><td>NA</td><td>US</td><td>Mesa, AZ</td><td>NA-US-AZ-MESA</td><td>false</td><td>14374</td><td>25446</td><td>471000465</td><td>null</td></tr><tr><td>49345</td><td>32046</td><td>STANDARD</td><td>HILLIARD</td><td>FL</td><td>PRIMARY</td><td>30.69</td><td>-81.92</td><td>0.12</td><td>-0.85</td><td>0.51</td><td>NA</td><td>US</td><td>Hilliard, FL</td><td>NA-US-FL-HILLIARD</td><td>false</td><td>3922</td><td>7443</td><td>133112149</td><td>null</td></tr><tr><td>49346</td><td>34445</td><td>PO BOX</td><td>HOLDER</td><td>FL</td><td>PRIMARY</td><td>28.96</td><td>-82.41</td><td>0.11</td><td>-0.86</td><td>0.48</td><td>NA</td><td>US</td><td>Holder, FL</td><td>NA-US-FL-HOLDER</td><td>false</td><td>null</td><td>null</td><td>null</td><td>null</td></tr><tr><td>49347</td><td>32564</td><td>STANDARD</td><td>HOLT</td><td>FL</td><td>PRIMARY</td><td>30.72</td><td>-86.67</td><td>0.04</td><td>-0.85</td><td>0.51</td><td>NA</td><td>US</td><td>Holt, FL</td><td>NA-US-FL-HOLT</td><td>false</td><td>1207</td><td>2190</td><td>36395913</td><td>null</td></tr><tr><td>49348</td><td>34487</td><td>PO BOX</td><td>HOMOSASSA</td><td>FL</td><td>PRIMARY</td><td>28.78</td><td>-82.61</td><td>0.11</td><td>-0.86</td><td>0.48</td><td>NA</td><td>US</td><td>Homosassa, FL</td><td>NA-US-FL-HOMOSASSA</td><td>false</td><td>null</td><td>null</td><td>null</td><td>null</td></tr><tr><td>10</td><td>708</td><td>STANDARD</td><td>BDA SAN LUIS</td><td>PR</td><td>NOT ACCEPTABLE</td><td>18.14</td><td>-66.26</td><td>0.38</td><td>-0.86</td><td>0.31</td><td>NA</td><td>US</td><td>Bda San Luis, PR</td><td>NA-US-PR-BDA SAN LUIS</td><td>false</td><td>null</td><td>null</td><td>null</td><td>null</td></tr><tr><td>3</td><td>704</td><td>STANDARD</td><td>SECT LANAUSSE</td><td>PR</td><td>NOT ACCEPTABLE</td><td>17.96</td><td>-66.22</td><td>0.38</td><td>-0.87</td><td>0.3</td><td>NA</td><td>US</td><td>Sect Lanausse, PR</td><td>NA-US-PR-SECT LANAUSSE</td><td>false</td><td>null</td><td>null</td><td>null</td><td>null</td></tr><tr><td>54354</td><td>36275</td><td>PO BOX</td><td>SPRING GARDEN</td><td>AL</td><td>PRIMARY</td><td>33.97</td><td>-85.55</td><td>0.06</td><td>-0.82</td><td>0.55</td><td>NA</td><td>US</td><td>Spring Garden, AL</td><td>NA-US-AL-SPRING GARDEN</td><td>false</td><td>null</td><td>null</td><td>null</td><td>null</td></tr><tr><td>54355</td><td>35146</td><td>STANDARD</td><td>SPRINGVILLE</td><td>AL</td><td>PRIMARY</td><td>33.77</td><td>-86.47</td><td>0.05</td><td>-0.82</td><td>0.55</td><td>NA</td><td>US</td><td>Springville, AL</td><td>NA-US-AL-SPRINGVILLE</td><td>false</td><td>4046</td><td>7845</td><td>172127599</td><td>null</td></tr><tr><td>54356</td><td>35585</td><td>STANDARD</td><td>SPRUCE PINE</td><td>AL</td><td>PRIMARY</td><td>34.37</td><td>-87.69</td><td>0.03</td><td>-0.82</td><td>0.56</td><td>NA</td><td>US</td><td>Spruce Pine, AL</td><td>NA-US-AL-SPRUCE PINE</td><td>false</td><td>610</td><td>1209</td><td>18525517</td><td>null</td></tr><tr><td>76511</td><td>27007</td><td>STANDARD</td><td>ASH HILL</td><td>NC</td><td>NOT ACCEPTABLE</td><td>36.4</td><td>-80.56</td><td>0.13</td><td>-0.79</td><td>0.59</td><td>NA</td><td>US</td><td>Ash Hill, NC</td><td>NA-US-NC-ASH HILL</td><td>false</td><td>842</td><td>1666</td><td>28876493</td><td>null</td></tr><tr><td>76512</td><td>27203</td><td>STANDARD</td><td>ASHEBORO</td><td>NC</td><td>PRIMARY</td><td>35.71</td><td>-79.81</td><td>0.14</td><td>-0.79</td><td>0.58</td><td>NA</td><td>US</td><td>Asheboro, NC</td><td>NA-US-NC-ASHEBORO</td><td>false</td><td>8355</td><td>15228</td><td>215474318</td><td>null</td></tr><tr><td>76513</td><td>27204</td><td>PO BOX</td><td>ASHEBORO</td><td>NC</td><td>PRIMARY</td><td>35.71</td><td>-79.81</td><td>0.14</td><td>-0.79</td><td>0.58</td><td>NA</td><td>US</td><td>Asheboro, NC</td><td>NA-US-NC-ASHEBORO</td><td>false</td><td>1035</td><td>1816</td><td>30322473</td><td>null</td></tr></tbody></table></div>"
      ]
     },
     "metadata": {
      "application/vnd.databricks.v1+output": {
       "addedWidgets": {},
       "aggData": [],
       "aggError": "",
       "aggOverflow": false,
       "aggSchema": [],
       "aggSeriesLimitReached": false,
       "aggType": "",
       "arguments": {},
       "columnCustomDisplayInfos": {},
       "data": [
        [
         1,
         704,
         "STANDARD",
         "PARC PARQUE",
         "PR",
         "NOT ACCEPTABLE",
         17.96,
         -66.22,
         0.38,
         -0.87,
         0.3,
         "NA",
         "US",
         "Parc Parque, PR",
         "NA-US-PR-PARC PARQUE",
         false,
         null,
         null,
         null,
         null
        ],
        [
         2,
         704,
         "STANDARD",
         "PASEO COSTA DEL SUR",
         "PR",
         "NOT ACCEPTABLE",
         17.96,
         -66.22,
         0.38,
         -0.87,
         0.3,
         "NA",
         "US",
         "Paseo Costa Del Sur, PR",
         "NA-US-PR-PASEO COSTA DEL SUR",
         false,
         null,
         null,
         null,
         null
        ],
        [
         10,
         709,
         "STANDARD",
         "BDA SAN LUIS",
         "PR",
         "NOT ACCEPTABLE",
         18.14,
         -66.26,
         0.38,
         -0.86,
         0.31,
         "NA",
         "US",
         "Bda San Luis, PR",
         "NA-US-PR-BDA SAN LUIS",
         false,
         null,
         null,
         null,
         null
        ],
        [
         61391,
         76166,
         "UNIQUE",
         "CINGULAR WIRELESS",
         "TX",
         "NOT ACCEPTABLE",
         32.72,
         -97.31,
         -0.1,
         -0.83,
         0.54,
         "NA",
         "US",
         "Cingular Wireless, TX",
         "NA-US-TX-CINGULAR WIRELESS",
         false,
         null,
         null,
         null,
         null
        ],
        [
         61392,
         76177,
         "STANDARD",
         "FORT WORTH",
         "TX",
         "PRIMARY",
         32.75,
         -97.33,
         -0.1,
         -0.83,
         0.54,
         "NA",
         "US",
         "Fort Worth, TX",
         "NA-US-TX-FORT WORTH",
         false,
         2126,
         4053,
         122396986,
         null
        ],
        [
         61393,
         76177,
         "STANDARD",
         "FT WORTH",
         "TX",
         "ACCEPTABLE",
         32.75,
         -97.33,
         -0.1,
         -0.83,
         0.54,
         "NA",
         "US",
         "Ft Worth, TX",
         "NA-US-TX-FT WORTH",
         false,
         2126,
         4053,
         122396986,
         null
        ],
        [
         4,
         704,
         "STANDARD",
         "URB EUGENE RICE",
         "PR",
         "NOT ACCEPTABLE",
         17.96,
         -66.22,
         0.38,
         -0.87,
         0.3,
         "NA",
         "US",
         "Urb Eugene Rice, PR",
         "NA-US-PR-URB EUGENE RICE",
         false,
         null,
         null,
         null,
         null
        ],
        [
         39827,
         85209,
         "STANDARD",
         "MESA",
         "AZ",
         "PRIMARY",
         33.37,
         -111.64,
         -0.3,
         -0.77,
         0.55,
         "NA",
         "US",
         "Mesa, AZ",
         "NA-US-AZ-MESA",
         false,
         14962,
         26883,
         563792730,
         "no NWS data, "
        ],
        [
         39828,
         85210,
         "STANDARD",
         "MESA",
         "AZ",
         "PRIMARY",
         33.38,
         -111.84,
         -0.31,
         -0.77,
         0.55,
         "NA",
         "US",
         "Mesa, AZ",
         "NA-US-AZ-MESA",
         false,
         14374,
         25446,
         471000465,
         null
        ],
        [
         49345,
         32046,
         "STANDARD",
         "HILLIARD",
         "FL",
         "PRIMARY",
         30.69,
         -81.92,
         0.12,
         -0.85,
         0.51,
         "NA",
         "US",
         "Hilliard, FL",
         "NA-US-FL-HILLIARD",
         false,
         3922,
         7443,
         133112149,
         null
        ],
        [
         49346,
         34445,
         "PO BOX",
         "HOLDER",
         "FL",
         "PRIMARY",
         28.96,
         -82.41,
         0.11,
         -0.86,
         0.48,
         "NA",
         "US",
         "Holder, FL",
         "NA-US-FL-HOLDER",
         false,
         null,
         null,
         null,
         null
        ],
        [
         49347,
         32564,
         "STANDARD",
         "HOLT",
         "FL",
         "PRIMARY",
         30.72,
         -86.67,
         0.04,
         -0.85,
         0.51,
         "NA",
         "US",
         "Holt, FL",
         "NA-US-FL-HOLT",
         false,
         1207,
         2190,
         36395913,
         null
        ],
        [
         49348,
         34487,
         "PO BOX",
         "HOMOSASSA",
         "FL",
         "PRIMARY",
         28.78,
         -82.61,
         0.11,
         -0.86,
         0.48,
         "NA",
         "US",
         "Homosassa, FL",
         "NA-US-FL-HOMOSASSA",
         false,
         null,
         null,
         null,
         null
        ],
        [
         10,
         708,
         "STANDARD",
         "BDA SAN LUIS",
         "PR",
         "NOT ACCEPTABLE",
         18.14,
         -66.26,
         0.38,
         -0.86,
         0.31,
         "NA",
         "US",
         "Bda San Luis, PR",
         "NA-US-PR-BDA SAN LUIS",
         false,
         null,
         null,
         null,
         null
        ],
        [
         3,
         704,
         "STANDARD",
         "SECT LANAUSSE",
         "PR",
         "NOT ACCEPTABLE",
         17.96,
         -66.22,
         0.38,
         -0.87,
         0.3,
         "NA",
         "US",
         "Sect Lanausse, PR",
         "NA-US-PR-SECT LANAUSSE",
         false,
         null,
         null,
         null,
         null
        ],
        [
         54354,
         36275,
         "PO BOX",
         "SPRING GARDEN",
         "AL",
         "PRIMARY",
         33.97,
         -85.55,
         0.06,
         -0.82,
         0.55,
         "NA",
         "US",
         "Spring Garden, AL",
         "NA-US-AL-SPRING GARDEN",
         false,
         null,
         null,
         null,
         null
        ],
        [
         54355,
         35146,
         "STANDARD",
         "SPRINGVILLE",
         "AL",
         "PRIMARY",
         33.77,
         -86.47,
         0.05,
         -0.82,
         0.55,
         "NA",
         "US",
         "Springville, AL",
         "NA-US-AL-SPRINGVILLE",
         false,
         4046,
         7845,
         172127599,
         null
        ],
        [
         54356,
         35585,
         "STANDARD",
         "SPRUCE PINE",
         "AL",
         "PRIMARY",
         34.37,
         -87.69,
         0.03,
         -0.82,
         0.56,
         "NA",
         "US",
         "Spruce Pine, AL",
         "NA-US-AL-SPRUCE PINE",
         false,
         610,
         1209,
         18525517,
         null
        ],
        [
         76511,
         27007,
         "STANDARD",
         "ASH HILL",
         "NC",
         "NOT ACCEPTABLE",
         36.4,
         -80.56,
         0.13,
         -0.79,
         0.59,
         "NA",
         "US",
         "Ash Hill, NC",
         "NA-US-NC-ASH HILL",
         false,
         842,
         1666,
         28876493,
         null
        ],
        [
         76512,
         27203,
         "STANDARD",
         "ASHEBORO",
         "NC",
         "PRIMARY",
         35.71,
         -79.81,
         0.14,
         -0.79,
         0.58,
         "NA",
         "US",
         "Asheboro, NC",
         "NA-US-NC-ASHEBORO",
         false,
         8355,
         15228,
         215474318,
         null
        ],
        [
         76513,
         27204,
         "PO BOX",
         "ASHEBORO",
         "NC",
         "PRIMARY",
         35.71,
         -79.81,
         0.14,
         -0.79,
         0.58,
         "NA",
         "US",
         "Asheboro, NC",
         "NA-US-NC-ASHEBORO",
         false,
         1035,
         1816,
         30322473,
         null
        ]
       ],
       "datasetInfos": [],
       "dbfsResultPath": null,
       "isJsonSchema": true,
       "metadata": {},
       "overflow": false,
       "plotOptions": {
        "customPlotOptions": {},
        "displayType": "table",
        "pivotAggregation": null,
        "pivotColumns": null,
        "xColumns": null,
        "yColumns": null
       },
       "removedWidgets": [],
       "schema": [
        {
         "metadata": "{}",
         "name": "RecordNumber",
         "type": "\"integer\""
        },
        {
         "metadata": "{}",
         "name": "Zipcode",
         "type": "\"integer\""
        },
        {
         "metadata": "{}",
         "name": "ZipCodeType",
         "type": "\"string\""
        },
        {
         "metadata": "{}",
         "name": "City",
         "type": "\"string\""
        },
        {
         "metadata": "{}",
         "name": "State",
         "type": "\"string\""
        },
        {
         "metadata": "{}",
         "name": "LocationType",
         "type": "\"string\""
        },
        {
         "metadata": "{}",
         "name": "Lat",
         "type": "\"double\""
        },
        {
         "metadata": "{}",
         "name": "Long",
         "type": "\"double\""
        },
        {
         "metadata": "{}",
         "name": "Xaxis",
         "type": "\"double\""
        },
        {
         "metadata": "{}",
         "name": "Yaxis",
         "type": "\"double\""
        },
        {
         "metadata": "{}",
         "name": "Zaxis",
         "type": "\"double\""
        },
        {
         "metadata": "{}",
         "name": "WorldRegion",
         "type": "\"string\""
        },
        {
         "metadata": "{}",
         "name": "Country",
         "type": "\"string\""
        },
        {
         "metadata": "{}",
         "name": "LocationText",
         "type": "\"string\""
        },
        {
         "metadata": "{}",
         "name": "Location",
         "type": "\"string\""
        },
        {
         "metadata": "{}",
         "name": "Decommisioned",
         "type": "\"boolean\""
        },
        {
         "metadata": "{}",
         "name": "TaxReturnsFiled",
         "type": "\"integer\""
        },
        {
         "metadata": "{}",
         "name": "EstimatedPopulation",
         "type": "\"integer\""
        },
        {
         "metadata": "{}",
         "name": "TotalWages",
         "type": "\"integer\""
        },
        {
         "metadata": "{}",
         "name": "Notes",
         "type": "\"string\""
        }
       ],
       "type": "table"
      }
     },
     "output_type": "display_data"
    }
   ],
   "source": [
    "testDf = spark.read.option(\"header\",True).option(\"inferSchema\",True).csv(\"/mnt/input/zipcodes.csv\")\n",
    "testDf.display()"
   ]
  },
  {
   "cell_type": "code",
   "execution_count": 0,
   "metadata": {
    "application/vnd.databricks.v1+cell": {
     "cellMetadata": {
      "byteLimit": 2048000,
      "rowLimit": 10000
     },
     "inputWidgets": {},
     "nuid": "84865d2c-2a15-4d55-9b44-dd3123a3a16d",
     "showTitle": false,
     "title": ""
    }
   },
   "outputs": [],
   "source": [
    "testDf.write.parquet(\"/mnt/input/destination\")"
   ]
  },
  {
   "cell_type": "code",
   "execution_count": 0,
   "metadata": {
    "application/vnd.databricks.v1+cell": {
     "cellMetadata": {
      "byteLimit": 2048000,
      "rowLimit": 10000
     },
     "inputWidgets": {},
     "nuid": "a8694c57-dfa5-426f-a5b7-adfe83b0e9db",
     "showTitle": false,
     "title": ""
    }
   },
   "outputs": [],
   "source": [
    "testDf.write.saveAsTable(\"zipcodes_managed\")"
   ]
  },
  {
   "cell_type": "code",
   "execution_count": 0,
   "metadata": {
    "application/vnd.databricks.v1+cell": {
     "cellMetadata": {
      "byteLimit": 2048000,
      "rowLimit": 10000
     },
     "inputWidgets": {},
     "nuid": "17382f3a-475a-481e-a112-2e94d6e4b290",
     "showTitle": false,
     "title": ""
    }
   },
   "outputs": [],
   "source": [
    "testDf.write.option(\"path\",\"/mnt/input/tables\").saveAsTable(\"zipcodes_unmanaged\")"
   ]
  },
  {
   "cell_type": "code",
   "execution_count": 0,
   "metadata": {
    "application/vnd.databricks.v1+cell": {
     "cellMetadata": {
      "byteLimit": 2048000,
      "implicitDf": true,
      "rowLimit": 10000
     },
     "inputWidgets": {},
     "nuid": "6fc412a3-9643-42e0-b852-efb64fe6e194",
     "showTitle": false,
     "title": ""
    }
   },
   "outputs": [
    {
     "output_type": "display_data",
     "data": {
      "text/html": [
       "<style scoped>\n",
       "  .table-result-container {\n",
       "    max-height: 300px;\n",
       "    overflow: auto;\n",
       "  }\n",
       "  table, th, td {\n",
       "    border: 1px solid black;\n",
       "    border-collapse: collapse;\n",
       "  }\n",
       "  th, td {\n",
       "    padding: 5px;\n",
       "  }\n",
       "  th {\n",
       "    text-align: left;\n",
       "  }\n",
       "</style><div class='table-result-container'><table class='table-result'><thead style='background-color: white'><tr><th>col_name</th><th>data_type</th><th>comment</th></tr></thead><tbody><tr><td>RecordNumber</td><td>int</td><td>null</td></tr><tr><td>Zipcode</td><td>int</td><td>null</td></tr><tr><td>ZipCodeType</td><td>string</td><td>null</td></tr><tr><td>City</td><td>string</td><td>null</td></tr><tr><td>State</td><td>string</td><td>null</td></tr><tr><td>LocationType</td><td>string</td><td>null</td></tr><tr><td>Lat</td><td>double</td><td>null</td></tr><tr><td>Long</td><td>double</td><td>null</td></tr><tr><td>Xaxis</td><td>double</td><td>null</td></tr><tr><td>Yaxis</td><td>double</td><td>null</td></tr><tr><td>Zaxis</td><td>double</td><td>null</td></tr><tr><td>WorldRegion</td><td>string</td><td>null</td></tr><tr><td>Country</td><td>string</td><td>null</td></tr><tr><td>LocationText</td><td>string</td><td>null</td></tr><tr><td>Location</td><td>string</td><td>null</td></tr><tr><td>Decommisioned</td><td>boolean</td><td>null</td></tr><tr><td>TaxReturnsFiled</td><td>int</td><td>null</td></tr><tr><td>EstimatedPopulation</td><td>int</td><td>null</td></tr><tr><td>TotalWages</td><td>int</td><td>null</td></tr><tr><td>Notes</td><td>string</td><td>null</td></tr><tr><td></td><td></td><td></td></tr><tr><td># Delta Statistics Columns</td><td></td><td></td></tr><tr><td>Column Names</td><td>Location, Country, Zaxis, RecordNumber, Lat, TaxReturnsFiled, TotalWages, LocationType, WorldRegion, Long, Zipcode, Xaxis, Yaxis, Decommisioned, City, LocationText, ZipCodeType, Notes, State, EstimatedPopulation</td><td></td></tr><tr><td>Column Selection Method</td><td>first-32</td><td></td></tr><tr><td></td><td></td><td></td></tr><tr><td># Detailed Table Information</td><td></td><td></td></tr><tr><td>Catalog</td><td>spark_catalog</td><td></td></tr><tr><td>Database</td><td>default</td><td></td></tr><tr><td>Table</td><td>zipcodes_managed</td><td></td></tr><tr><td>Created Time</td><td>Tue Sep 26 08:50:24 UTC 2023</td><td></td></tr><tr><td>Last Access</td><td>UNKNOWN</td><td></td></tr><tr><td>Created By</td><td>Spark 3.4.1</td><td></td></tr><tr><td>Type</td><td>MANAGED</td><td></td></tr><tr><td>Location</td><td>dbfs:/user/hive/warehouse/zipcodes_managed</td><td></td></tr><tr><td>Provider</td><td>delta</td><td></td></tr><tr><td>Owner</td><td>root</td><td></td></tr><tr><td>Is_managed_location</td><td>true</td><td></td></tr><tr><td>Table Properties</td><td>[delta.minReaderVersion=1,delta.minWriterVersion=2]</td><td></td></tr></tbody></table></div>"
      ]
     },
     "metadata": {
      "application/vnd.databricks.v1+output": {
       "addedWidgets": {},
       "aggData": [],
       "aggError": "",
       "aggOverflow": false,
       "aggSchema": [],
       "aggSeriesLimitReached": false,
       "aggType": "",
       "arguments": {},
       "columnCustomDisplayInfos": {},
       "data": [
        [
         "RecordNumber",
         "int",
         null
        ],
        [
         "Zipcode",
         "int",
         null
        ],
        [
         "ZipCodeType",
         "string",
         null
        ],
        [
         "City",
         "string",
         null
        ],
        [
         "State",
         "string",
         null
        ],
        [
         "LocationType",
         "string",
         null
        ],
        [
         "Lat",
         "double",
         null
        ],
        [
         "Long",
         "double",
         null
        ],
        [
         "Xaxis",
         "double",
         null
        ],
        [
         "Yaxis",
         "double",
         null
        ],
        [
         "Zaxis",
         "double",
         null
        ],
        [
         "WorldRegion",
         "string",
         null
        ],
        [
         "Country",
         "string",
         null
        ],
        [
         "LocationText",
         "string",
         null
        ],
        [
         "Location",
         "string",
         null
        ],
        [
         "Decommisioned",
         "boolean",
         null
        ],
        [
         "TaxReturnsFiled",
         "int",
         null
        ],
        [
         "EstimatedPopulation",
         "int",
         null
        ],
        [
         "TotalWages",
         "int",
         null
        ],
        [
         "Notes",
         "string",
         null
        ],
        [
         "",
         "",
         ""
        ],
        [
         "# Delta Statistics Columns",
         "",
         ""
        ],
        [
         "Column Names",
         "Location, Country, Zaxis, RecordNumber, Lat, TaxReturnsFiled, TotalWages, LocationType, WorldRegion, Long, Zipcode, Xaxis, Yaxis, Decommisioned, City, LocationText, ZipCodeType, Notes, State, EstimatedPopulation",
         ""
        ],
        [
         "Column Selection Method",
         "first-32",
         ""
        ],
        [
         "",
         "",
         ""
        ],
        [
         "# Detailed Table Information",
         "",
         ""
        ],
        [
         "Catalog",
         "spark_catalog",
         ""
        ],
        [
         "Database",
         "default",
         ""
        ],
        [
         "Table",
         "zipcodes_managed",
         ""
        ],
        [
         "Created Time",
         "Tue Sep 26 08:50:24 UTC 2023",
         ""
        ],
        [
         "Last Access",
         "UNKNOWN",
         ""
        ],
        [
         "Created By",
         "Spark 3.4.1",
         ""
        ],
        [
         "Type",
         "MANAGED",
         ""
        ],
        [
         "Location",
         "dbfs:/user/hive/warehouse/zipcodes_managed",
         ""
        ],
        [
         "Provider",
         "delta",
         ""
        ],
        [
         "Owner",
         "root",
         ""
        ],
        [
         "Is_managed_location",
         "true",
         ""
        ],
        [
         "Table Properties",
         "[delta.minReaderVersion=1,delta.minWriterVersion=2]",
         ""
        ]
       ],
       "datasetInfos": [],
       "dbfsResultPath": null,
       "isJsonSchema": true,
       "metadata": {
        "dataframeName": "_sqldf",
        "executionCount": 6
       },
       "overflow": false,
       "plotOptions": {
        "customPlotOptions": {},
        "displayType": "table",
        "pivotAggregation": null,
        "pivotColumns": null,
        "xColumns": null,
        "yColumns": null
       },
       "removedWidgets": [],
       "schema": [
        {
         "metadata": "{\"comment\":\"name of the column\"}",
         "name": "col_name",
         "type": "\"string\""
        },
        {
         "metadata": "{\"comment\":\"data type of the column\"}",
         "name": "data_type",
         "type": "\"string\""
        },
        {
         "metadata": "{\"comment\":\"comment of the column\"}",
         "name": "comment",
         "type": "\"string\""
        }
       ],
       "type": "table"
      }
     },
     "output_type": "display_data"
    }
   ],
   "source": [
    "%sql\n",
    "DESCRIBE EXTENDED zipcodes_managed"
   ]
  },
  {
   "cell_type": "code",
   "execution_count": 0,
   "metadata": {
    "application/vnd.databricks.v1+cell": {
     "cellMetadata": {
      "byteLimit": 2048000,
      "implicitDf": true,
      "rowLimit": 10000
     },
     "inputWidgets": {},
     "nuid": "a13ac588-992c-4432-88ea-3007daa5660e",
     "showTitle": false,
     "title": ""
    }
   },
   "outputs": [
    {
     "output_type": "display_data",
     "data": {
      "text/html": [
       "<style scoped>\n",
       "  .table-result-container {\n",
       "    max-height: 300px;\n",
       "    overflow: auto;\n",
       "  }\n",
       "  table, th, td {\n",
       "    border: 1px solid black;\n",
       "    border-collapse: collapse;\n",
       "  }\n",
       "  th, td {\n",
       "    padding: 5px;\n",
       "  }\n",
       "  th {\n",
       "    text-align: left;\n",
       "  }\n",
       "</style><div class='table-result-container'><table class='table-result'><thead style='background-color: white'><tr><th>col_name</th><th>data_type</th><th>comment</th></tr></thead><tbody><tr><td>RecordNumber</td><td>int</td><td>null</td></tr><tr><td>Zipcode</td><td>int</td><td>null</td></tr><tr><td>ZipCodeType</td><td>string</td><td>null</td></tr><tr><td>City</td><td>string</td><td>null</td></tr><tr><td>State</td><td>string</td><td>null</td></tr><tr><td>LocationType</td><td>string</td><td>null</td></tr><tr><td>Lat</td><td>double</td><td>null</td></tr><tr><td>Long</td><td>double</td><td>null</td></tr><tr><td>Xaxis</td><td>double</td><td>null</td></tr><tr><td>Yaxis</td><td>double</td><td>null</td></tr><tr><td>Zaxis</td><td>double</td><td>null</td></tr><tr><td>WorldRegion</td><td>string</td><td>null</td></tr><tr><td>Country</td><td>string</td><td>null</td></tr><tr><td>LocationText</td><td>string</td><td>null</td></tr><tr><td>Location</td><td>string</td><td>null</td></tr><tr><td>Decommisioned</td><td>boolean</td><td>null</td></tr><tr><td>TaxReturnsFiled</td><td>int</td><td>null</td></tr><tr><td>EstimatedPopulation</td><td>int</td><td>null</td></tr><tr><td>TotalWages</td><td>int</td><td>null</td></tr><tr><td>Notes</td><td>string</td><td>null</td></tr><tr><td></td><td></td><td></td></tr><tr><td># Delta Statistics Columns</td><td></td><td></td></tr><tr><td>Column Names</td><td>Location, Country, Zaxis, RecordNumber, Lat, TaxReturnsFiled, TotalWages, LocationType, WorldRegion, Long, Zipcode, Xaxis, Yaxis, Decommisioned, City, LocationText, ZipCodeType, Notes, State, EstimatedPopulation</td><td></td></tr><tr><td>Column Selection Method</td><td>first-32</td><td></td></tr><tr><td></td><td></td><td></td></tr><tr><td># Detailed Table Information</td><td></td><td></td></tr><tr><td>Catalog</td><td>spark_catalog</td><td></td></tr><tr><td>Database</td><td>default</td><td></td></tr><tr><td>Table</td><td>zipcodes_unmanaged</td><td></td></tr><tr><td>Created Time</td><td>Tue Sep 26 08:51:27 UTC 2023</td><td></td></tr><tr><td>Last Access</td><td>UNKNOWN</td><td></td></tr><tr><td>Created By</td><td>Spark 3.4.1</td><td></td></tr><tr><td>Type</td><td>EXTERNAL</td><td></td></tr><tr><td>Location</td><td>dbfs:/mnt/input/tables</td><td></td></tr><tr><td>Provider</td><td>delta</td><td></td></tr><tr><td>Owner</td><td>root</td><td></td></tr><tr><td>Table Properties</td><td>[delta.minReaderVersion=1,delta.minWriterVersion=2]</td><td></td></tr></tbody></table></div>"
      ]
     },
     "metadata": {
      "application/vnd.databricks.v1+output": {
       "addedWidgets": {},
       "aggData": [],
       "aggError": "",
       "aggOverflow": false,
       "aggSchema": [],
       "aggSeriesLimitReached": false,
       "aggType": "",
       "arguments": {},
       "columnCustomDisplayInfos": {},
       "data": [
        [
         "RecordNumber",
         "int",
         null
        ],
        [
         "Zipcode",
         "int",
         null
        ],
        [
         "ZipCodeType",
         "string",
         null
        ],
        [
         "City",
         "string",
         null
        ],
        [
         "State",
         "string",
         null
        ],
        [
         "LocationType",
         "string",
         null
        ],
        [
         "Lat",
         "double",
         null
        ],
        [
         "Long",
         "double",
         null
        ],
        [
         "Xaxis",
         "double",
         null
        ],
        [
         "Yaxis",
         "double",
         null
        ],
        [
         "Zaxis",
         "double",
         null
        ],
        [
         "WorldRegion",
         "string",
         null
        ],
        [
         "Country",
         "string",
         null
        ],
        [
         "LocationText",
         "string",
         null
        ],
        [
         "Location",
         "string",
         null
        ],
        [
         "Decommisioned",
         "boolean",
         null
        ],
        [
         "TaxReturnsFiled",
         "int",
         null
        ],
        [
         "EstimatedPopulation",
         "int",
         null
        ],
        [
         "TotalWages",
         "int",
         null
        ],
        [
         "Notes",
         "string",
         null
        ],
        [
         "",
         "",
         ""
        ],
        [
         "# Delta Statistics Columns",
         "",
         ""
        ],
        [
         "Column Names",
         "Location, Country, Zaxis, RecordNumber, Lat, TaxReturnsFiled, TotalWages, LocationType, WorldRegion, Long, Zipcode, Xaxis, Yaxis, Decommisioned, City, LocationText, ZipCodeType, Notes, State, EstimatedPopulation",
         ""
        ],
        [
         "Column Selection Method",
         "first-32",
         ""
        ],
        [
         "",
         "",
         ""
        ],
        [
         "# Detailed Table Information",
         "",
         ""
        ],
        [
         "Catalog",
         "spark_catalog",
         ""
        ],
        [
         "Database",
         "default",
         ""
        ],
        [
         "Table",
         "zipcodes_unmanaged",
         ""
        ],
        [
         "Created Time",
         "Tue Sep 26 08:51:27 UTC 2023",
         ""
        ],
        [
         "Last Access",
         "UNKNOWN",
         ""
        ],
        [
         "Created By",
         "Spark 3.4.1",
         ""
        ],
        [
         "Type",
         "EXTERNAL",
         ""
        ],
        [
         "Location",
         "dbfs:/mnt/input/tables",
         ""
        ],
        [
         "Provider",
         "delta",
         ""
        ],
        [
         "Owner",
         "root",
         ""
        ],
        [
         "Table Properties",
         "[delta.minReaderVersion=1,delta.minWriterVersion=2]",
         ""
        ]
       ],
       "datasetInfos": [],
       "dbfsResultPath": null,
       "isJsonSchema": true,
       "metadata": {
        "dataframeName": "_sqldf",
        "executionCount": 7
       },
       "overflow": false,
       "plotOptions": {
        "customPlotOptions": {},
        "displayType": "table",
        "pivotAggregation": null,
        "pivotColumns": null,
        "xColumns": null,
        "yColumns": null
       },
       "removedWidgets": [],
       "schema": [
        {
         "metadata": "{\"comment\":\"name of the column\"}",
         "name": "col_name",
         "type": "\"string\""
        },
        {
         "metadata": "{\"comment\":\"data type of the column\"}",
         "name": "data_type",
         "type": "\"string\""
        },
        {
         "metadata": "{\"comment\":\"comment of the column\"}",
         "name": "comment",
         "type": "\"string\""
        }
       ],
       "type": "table"
      }
     },
     "output_type": "display_data"
    }
   ],
   "source": [
    "%sql\n",
    "DESCRIBE EXTENDED zipcodes_unmanaged"
   ]
  },
  {
   "cell_type": "code",
   "execution_count": 0,
   "metadata": {
    "application/vnd.databricks.v1+cell": {
     "cellMetadata": {},
     "inputWidgets": {},
     "nuid": "47ce7ae1-8df4-4a56-bc0c-af9f4e46b1fa",
     "showTitle": false,
     "title": ""
    }
   },
   "outputs": [],
   "source": []
  }
 ],
 "metadata": {
  "application/vnd.databricks.v1+notebook": {
   "dashboards": [],
   "language": "python",
   "notebookMetadata": {
    "mostRecentlyExecutedCommandWithImplicitDF": {
     "commandId": 3265235834307462,
     "dataframes": [
      "_sqldf"
     ]
    },
    "pythonIndentUnit": 4
   },
   "notebookName": "Dataframe_activity",
   "widgets": {}
  }
 },
 "nbformat": 4,
 "nbformat_minor": 0
}
